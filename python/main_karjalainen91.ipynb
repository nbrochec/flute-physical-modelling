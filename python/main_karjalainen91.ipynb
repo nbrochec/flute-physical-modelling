{
 "cells": [
  {
   "cell_type": "code",
   "execution_count": 1,
   "metadata": {},
   "outputs": [],
   "source": [
    "import numpy as np\n",
    "import time\n",
    "import soundfile as sf"
   ]
  },
  {
   "cell_type": "code",
   "execution_count": 2,
   "metadata": {},
   "outputs": [],
   "source": [
    "tube_length= 80\n",
    "embochure = 20\n",
    "fs = 44100\n",
    "nbr_de_sec = 1\n",
    "duration = fs*nbr_de_sec"
   ]
  },
  {
   "cell_type": "code",
   "execution_count": 3,
   "metadata": {},
   "outputs": [],
   "source": [
    "def noise(duration):\n",
    "    y = (np.random.rand(duration,1)-0.5)*2\n",
    "    return y\n",
    "\n",
    "def normalize(array):\n",
    "    min = np.min(array)\n",
    "    max = np.max(array)\n",
    "    normalized_array = 2*(array-min)/(max-min) - 1\n",
    "    return normalized_array"
   ]
  },
  {
   "cell_type": "code",
   "execution_count": 4,
   "metadata": {},
   "outputs": [],
   "source": [
    "# Karjalainen 1991\n",
    "\n",
    "# Noise ノイズ\n",
    "burst_noise = noise(duration)\n",
    "\n",
    "# Variables 変数\n",
    "# Preallocate output array for efficiency\n",
    "output = np.empty(duration)  \n",
    "delayTube1 = np.empty(duration)\n",
    "delayTube2 = np.empty(duration)\n",
    "delayEmb = np.empty(duration)\n",
    "feedbackGain = 0.77 #0.628\n",
    "inputGain = 0.372\n",
    "\n",
    "feedback = 0\n",
    "delayff = 0\n",
    "delayfr = 0\n",
    "delayfb = 0\n",
    "start = 0\n",
    "end = 0\n",
    "\n",
    "start = time.time()\n",
    "for i in range(duration):\n",
    "    # Input Noise　ノイズの入力\n",
    "    instantSample = burst_noise[i] * inputGain\n",
    "\n",
    "    # + feedback　フィードバック足し\n",
    "    if i != 0:\n",
    "        instantSample += feedback\n",
    "\n",
    "    # Z-1　一サンプル遅延\n",
    "    delayEmb[i] = instantSample\n",
    "    if i > embochure:\n",
    "        instantSample = delayEmb[i-embochure]\n",
    "\n",
    "    # Non-linearity　シグモイド関数\n",
    "    instantSample -= (instantSample**3)\n",
    "\n",
    "    # + feedback　フィードバック足し\n",
    "    if i != 0:\n",
    "        instantSample += feedback\n",
    "\n",
    "    # Variable delay-line　可変遅延線\n",
    "    delayTube1[i] = instantSample\n",
    "    if i > tube_length:\n",
    "        instantSample = delayTube1[i-tube_length]\n",
    "    \n",
    "    # Ff　無限インパルス応答フィルター\n",
    "    instantSample = instantSample * 0.5 + delayff * 0.5\n",
    "    delayff = instantSample\n",
    "\n",
    "    # Fr　逆の無限インパルス応答フィルター\n",
    "    instantSample_to_fr = instantSample\n",
    "    instantSample_to_fr1 = instantSample_to_fr * 0.5 + delayfr * (-0.5)\n",
    "    delayfr = instantSample_to_fr1\n",
    "    instantSample_to_fr_out = instantSample_to_fr - instantSample_to_fr1\n",
    "\n",
    "    # Variable delay-line　可変遅延線\n",
    "    delayTube2[i] = instantSample\n",
    "    if i > tube_length:\n",
    "        instantSample = delayTube2[i-tube_length]\n",
    "        \n",
    "    # Fb　無限インパルス応答フィルター\n",
    "    instantSample_to_fb = instantSample * 0.5 + delayfb * 0.5\n",
    "    delayfb = instantSample_to_fb\n",
    "\n",
    "    # Feedback　フィードバック\n",
    "    feedback = instantSample_to_fb * feedbackGain\n",
    "\n",
    "    # Output　出力\n",
    "    output[i] = instantSample_to_fr_out\n",
    "\n",
    "normalized_output = normalize(output)\n",
    "end = time.time()"
   ]
  },
  {
   "cell_type": "code",
   "execution_count": 5,
   "metadata": {},
   "outputs": [
    {
     "name": "stdout",
     "output_type": "stream",
     "text": [
      "0.8404684066772461\n"
     ]
    }
   ],
   "source": [
    "# write output to file for listening\n",
    "sf.write('output_Karjalainen91.wav', normalized_output, fs)\n",
    "\n",
    "elapsed_time = end - start\n",
    "print(elapsed_time)"
   ]
  },
  {
   "cell_type": "code",
   "execution_count": null,
   "metadata": {},
   "outputs": [],
   "source": []
  }
 ],
 "metadata": {
  "kernelspec": {
   "display_name": "base",
   "language": "python",
   "name": "python3"
  },
  "language_info": {
   "codemirror_mode": {
    "name": "ipython",
    "version": 3
   },
   "file_extension": ".py",
   "mimetype": "text/x-python",
   "name": "python",
   "nbconvert_exporter": "python",
   "pygments_lexer": "ipython3",
   "version": "3.10.10"
  },
  "orig_nbformat": 4
 },
 "nbformat": 4,
 "nbformat_minor": 2
}
