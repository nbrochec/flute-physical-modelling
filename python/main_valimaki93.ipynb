{
 "cells": [
  {
   "cell_type": "code",
   "execution_count": 52,
   "metadata": {},
   "outputs": [],
   "source": [
    "import numpy as np\n",
    "import time\n",
    "import soundfile as sf\n",
    "import math"
   ]
  },
  {
   "cell_type": "code",
   "execution_count": 55,
   "metadata": {},
   "outputs": [],
   "source": [
    "tube_length = 80\n",
    "fs = 44100\n",
    "embochure = 20\n",
    "inputGain = 0.1\n",
    "nbr_de_sec = 0.1\n",
    "duration = int(fs*nbr_de_sec)\n",
    "voicedGain = 1\n",
    "outputGain = 1"
   ]
  },
  {
   "cell_type": "code",
   "execution_count": 56,
   "metadata": {},
   "outputs": [],
   "source": [
    "def noise():\n",
    "    return (np.random.uniform() - 0.5) * 2\n",
    "\n",
    "def normalize(array):\n",
    "    min = np.min(array)\n",
    "    max = np.max(array)\n",
    "    normalized_array = 2*(array-min)/(max-min) - 1\n",
    "    return normalized_array\n"
   ]
  },
  {
   "cell_type": "code",
   "execution_count": 68,
   "metadata": {},
   "outputs": [],
   "source": [
    "def hole1(i,x):\n",
    "    return x\n",
    "\n",
    "def hole2(i,x):\n",
    "    return x"
   ]
  },
  {
   "cell_type": "code",
   "execution_count": 67,
   "metadata": {},
   "outputs": [
    {
     "name": "stdout",
     "output_type": "stream",
     "text": [
      "[nan nan nan ... nan nan nan]\n"
     ]
    },
    {
     "name": "stderr",
     "output_type": "stream",
     "text": [
      "/var/folders/15/s_s_6k8d24z5bpljjglt6m_00000gn/T/ipykernel_18799/130747855.py:7: RuntimeWarning: invalid value encountered in divide\n",
      "  normalized_array = 2*(array-min)/(max-min) - 1\n"
     ]
    }
   ],
   "source": [
    "# Valimaki 1993\n",
    "\n",
    "# Variables 変数\n",
    "# Preallocate output array for efficiency\n",
    "output = np.zeros(duration)  \n",
    "delayEmb = np.zeros(duration)\n",
    "\n",
    "delayTube = np.zeros(duration)\n",
    "delayOutHoles = np.empty(duration)\n",
    "\n",
    "delayHole1 = np.empty(duration)\n",
    "delayHole1Distance = np.empty(duration)\n",
    "delayHole1Decorr1 = np.empty(duration)\n",
    "delayHole1Decorr2 = np.empty(duration)\n",
    "\n",
    "delayHole2 = np.empty(duration)\n",
    "delayHole2Distance = np.empty(duration)\n",
    "delayHole2Decorr1 = np.empty(duration)\n",
    "delayHole2Decorr2 = np.empty(duration)\n",
    "\n",
    "output1 = 0\n",
    "output2 = 0\n",
    "feedback1 = 0\n",
    "feedback2 = 0\n",
    "feedback3 = 0\n",
    "\n",
    "Dfdbk = 0.99\n",
    "fdbk_gain = 0.98\n",
    "\n",
    "hole1Distance = 40\n",
    "hole2Distance = 60\n",
    "\n",
    "hole1Corr = 0\n",
    "historyBoundaryLossFilter = 0\n",
    "historyDCkiller = 0\n",
    "branchDCkiller = 0\n",
    "historyReflectionFilter = 0\n",
    "historyHole1Filter = 0\n",
    "historyHole2Filter = 0\n",
    "delaydc = 0\n",
    "\n",
    "start = 0\n",
    "end = 0\n",
    "\n",
    "coeff = 0.3333\n",
    "\n",
    "start = time.time()\n",
    "for i in range(duration):\n",
    "    instantSample = noise() * inputGain\n",
    "\n",
    "    # Voiced Gain feedback1+feedback2\n",
    "    if  i != 0:\n",
    "        instantSample = instantSample + ((feedback1+feedback2) * voicedGain)\n",
    "\n",
    "    # Delay-line Embouchure\n",
    "    delayEmb[i] = instantSample\n",
    "    if i > embochure:\n",
    "        instantSample = delayEmb[i-embochure]\n",
    "\n",
    "    # Nonlinearity\n",
    "    instantSample -= (instantSample ** 3)\n",
    "\n",
    "    # DC Killer\n",
    "    instantSample_dckiller = instantSample\n",
    "    DCKiller = instantSample_dckiller * 0.5 + delaydc * (-0.5)\n",
    "    delaydc = DCKiller\n",
    "    instantSample = instantSample_dckiller - DCKiller\n",
    "\n",
    "    if i != 0:\n",
    "        instantSample += feedback2\n",
    "\n",
    "    # Boundary Loss Filter\n",
    "    instantSample_blf = instantSample\n",
    "    BLF = instantSample_blf * 0.5 + historyBoundaryLossFilter * 0.5\n",
    "    historyBoundaryLossFilter = BLF\n",
    "    instantSample = BLF\n",
    "\n",
    "    # Tube Length delay\n",
    "    delayTube[i] = instantSample\n",
    "    if i > tube_length:\n",
    "        instantSample = delayTube[i - tube_length]\n",
    "    instantSample_to_output = instantSample\n",
    "    instantSample_to_reflection = instantSample * 0.3333\n",
    "    instantSample_to_holes = instantSample * 0.3333\n",
    "    \n",
    "    outHole1 = hole1(i, instantSample_to_holes)\n",
    "    outHole2 = hole2(i, instantSample_to_holes)\n",
    "    outputHoles = outHole1 + outHole2\n",
    "\n",
    "    # Reflection Filter\n",
    "    reflectionFilter = (instantSample_to_reflection * 0.5 + historyReflectionFilter * 0.5) * 0.897\n",
    "    historyReflectionFilter = reflectionFilter\n",
    "\n",
    "    output[i] = (0.333 * instantSample_to_output + outputHoles) * outputGain\n",
    "\n",
    "    delayOutHoles[i] = outputHoles + reflectionFilter\n",
    "    if i > tube_length:\n",
    "        newSample = delayOutHoles[i - tube_length]\n",
    "    else:\n",
    "        newSample = 0\n",
    "    \n",
    "    feedback1 = DCKiller * Dfdbk\n",
    "    feedback2 = newSample * fdbk_gain\n",
    "\n",
    "normalized_output = normalize(output)\n",
    "print(normalized_output)\n",
    "end = time.time()"
   ]
  },
  {
   "cell_type": "code",
   "execution_count": null,
   "metadata": {},
   "outputs": [
    {
     "name": "stdout",
     "output_type": "stream",
     "text": [
      "0.8612298965454102\n"
     ]
    }
   ],
   "source": [
    "# write output to file for listening\n",
    "sf.write('output_Valimaki92.wav', normalized_output, fs)\n",
    "\n",
    "elapsed_time = end - start\n",
    "print(elapsed_time)"
   ]
  },
  {
   "cell_type": "code",
   "execution_count": null,
   "metadata": {},
   "outputs": [],
   "source": []
  }
 ],
 "metadata": {
  "kernelspec": {
   "display_name": "base",
   "language": "python",
   "name": "python3"
  },
  "language_info": {
   "codemirror_mode": {
    "name": "ipython",
    "version": 3
   },
   "file_extension": ".py",
   "mimetype": "text/x-python",
   "name": "python",
   "nbconvert_exporter": "python",
   "pygments_lexer": "ipython3",
   "version": "3.10.10"
  },
  "orig_nbformat": 4
 },
 "nbformat": 4,
 "nbformat_minor": 2
}
